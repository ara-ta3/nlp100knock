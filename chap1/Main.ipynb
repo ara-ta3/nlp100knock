{
 "cells": [
  {
   "cell_type": "code",
   "execution_count": 12,
   "metadata": {
    "collapsed": false
   },
   "outputs": [
    {
     "data": {
      "text/plain": [
       "'desserts'"
      ]
     },
     "execution_count": 12,
     "metadata": {},
     "output_type": "execute_result"
    }
   ],
   "source": [
    "target = list(\"stressed\")\n",
    "target.reverse()\n",
    "\"\".join(target)"
   ]
  },
  {
   "cell_type": "code",
   "execution_count": 18,
   "metadata": {
    "collapsed": false
   },
   "outputs": [
    {
     "name": "stdout",
     "output_type": "stream",
     "text": [
      "タクシー\n"
     ]
    }
   ],
   "source": [
    "target = \"パタトクカシーー\"\n",
    "t = list(target)\n",
    "print(t[1] + t[3] + t[5] + t[7])"
   ]
  },
  {
   "cell_type": "code",
   "execution_count": 16,
   "metadata": {
    "collapsed": false
   },
   "outputs": [
    {
     "data": {
      "text/plain": [
       "'パタトクカシーー'"
      ]
     },
     "execution_count": 16,
     "metadata": {},
     "output_type": "execute_result"
    }
   ],
   "source": [
    "p = \"パトカー\"\n",
    "t = \"タクシー\"\n",
    "\"\".join([ a + b for (a, b) in zip(list(p), list(t))])"
   ]
  },
  {
   "cell_type": "code",
   "execution_count": 23,
   "metadata": {
    "collapsed": false
   },
   "outputs": [
    {
     "data": {
      "text/plain": [
       "[3, 1, 4, 1, 6, 9, 2, 7, 5, 3, 5, 8, 9, 7, 10]"
      ]
     },
     "execution_count": 23,
     "metadata": {},
     "output_type": "execute_result"
    }
   ],
   "source": [
    "s = \"Now I need a drink, alcoholic of course, after the heavy lectures involving quantum mechanics.\"\n",
    "[len(a) for a in s.split()]"
   ]
  },
  {
   "cell_type": "code",
   "execution_count": 34,
   "metadata": {
    "collapsed": false
   },
   "outputs": [
    {
     "name": "stdout",
     "output_type": "stream",
     "text": [
      "HHeLiBeBCNOFNeNaMiAlSiPSClArKCa\n"
     ]
    }
   ],
   "source": [
    "a = \"Hi He Lied Because Boron Could Not Oxidize Fluorine. New Nations Might Also Sign Peace Security Clause. Arthur King Can.\"\n",
    "res = \"\"\n",
    "for (idx, s) in enumerate(a.split()):\n",
    "    if ((idx + 1) in [1,5,6,7,8,9,15,16,19]):\n",
    "        res += s[0]\n",
    "    else :\n",
    "        res += s[0:2]\n",
    "\n",
    "print(res)"
   ]
  },
  {
   "cell_type": "code",
   "execution_count": 59,
   "metadata": {
    "collapsed": false
   },
   "outputs": [
    {
     "name": "stdout",
     "output_type": "stream",
     "text": [
      "[['I', 'am'], ['an', 'NLPer']]\n",
      "[['I', 'a'], ['m', 'a'], ['n', 'N'], ['L', 'P'], ['e', 'r']]\n"
     ]
    }
   ],
   "source": [
    "def ngram(n, target_list, acc_list = []):\n",
    "    res = list()\n",
    "    if(len(acc_list) > 0) :\n",
    "        res = acc_list\n",
    "    if (len(target_list) == 0):\n",
    "        return res\n",
    "    elif (len(target_list) < n):\n",
    "        res.append(target_list)\n",
    "        return res\n",
    "    else:\n",
    "        res.append(target_list[:n])\n",
    "        return ngram(n, target_list[n:], res)\n",
    "\n",
    "t = \"I am an NLPer\"\n",
    "print(ngram(2, t.split()))\n",
    "\n",
    "print(ngram(2, [x for x in list(t) if len(x.strip()) >0]))"
   ]
  },
  {
   "cell_type": "code",
   "execution_count": 64,
   "metadata": {
    "collapsed": false
   },
   "outputs": [
    {
     "name": "stdout",
     "output_type": "stream",
     "text": [
      "['pa', 'ra', 'pa', 'ra', 'pa', 'ra', 'di', 'se']\n",
      "['pa', 'ra', 'gr', 'ap', 'h']\n",
      "{'h', 'ap', 'gr', 'di', 'pa', 'se', 'ra'}\n",
      "{'pa', 'ra'}\n",
      "{'di', 'se'}\n",
      "True\n",
      "False\n"
     ]
    }
   ],
   "source": [
    "p1 = \"paraparaparadise\"\n",
    "p2 = \"paragraph\"\n",
    "\n",
    "r1 = [\"\".join(x) for x in ngram(2, list(p1))]\n",
    "r2 = [\"\".join(x) for x in ngram(2, list(p2))]\n",
    "\n",
    "print(r1)\n",
    "print(r2)\n",
    "s1 = set()\n",
    "s2 = set()\n",
    "for elm in r1:\n",
    "    s1.add(elm)\n",
    "\n",
    "for elm in r2:\n",
    "    s2.add(elm)\n",
    "\n",
    "print(s1.union(s2))\n",
    "print(s1.intersection(s2))\n",
    "print(s1.difference(s2))\n",
    "print(\"se\" in s1)\n",
    "print(\"se\" in s2)"
   ]
  },
  {
   "cell_type": "code",
   "execution_count": 68,
   "metadata": {
    "collapsed": false
   },
   "outputs": [
    {
     "data": {
      "text/plain": [
       "'12時の気温は22.4'"
      ]
     },
     "execution_count": 68,
     "metadata": {},
     "output_type": "execute_result"
    }
   ],
   "source": [
    "def templ(x, y, z): \n",
    "    return \"%d時の%sは%s\" % (x,y,z)\n",
    "\n",
    "templ(12, \"気温\", 22.4)"
   ]
  },
  {
   "cell_type": "code",
   "execution_count": 93,
   "metadata": {
    "collapsed": false
   },
   "outputs": [
    {
     "data": {
      "text/plain": [
       "'zyxwv'"
      ]
     },
     "execution_count": 93,
     "metadata": {},
     "output_type": "execute_result"
    }
   ],
   "source": [
    "def cipher(s):\n",
    "    ord_list = [ord(x) for x in list(s)]\n",
    "    ret =\"\"\n",
    "    for x in ord_list:\n",
    "        if(x >= 97 and x <= 122):\n",
    "            ret += chr(219 - x)\n",
    "        else:\n",
    "            ret += chr(x)\n",
    "    return ret\n",
    "\n",
    "cipher(\"abcde\")"
   ]
  },
  {
   "cell_type": "code",
   "execution_count": 97,
   "metadata": {
    "collapsed": false
   },
   "outputs": [
    {
     "data": {
      "text/plain": [
       "['I',\n",
       " \"cnudo'lt\",\n",
       " 'bielvee',\n",
       " 'that',\n",
       " 'I',\n",
       " 'colud',\n",
       " 'allctauy',\n",
       " 'unrestndad',\n",
       " 'what',\n",
       " 'I',\n",
       " 'was',\n",
       " 'riadeng',\n",
       " ':',\n",
       " 'the',\n",
       " 'phnemaoenl',\n",
       " 'power',\n",
       " 'of',\n",
       " 'the',\n",
       " 'hmuan',\n",
       " 'mind',\n",
       " '.']"
      ]
     },
     "execution_count": 97,
     "metadata": {},
     "output_type": "execute_result"
    }
   ],
   "source": [
    "import random\n",
    "\n",
    "def typoglycemia(words):\n",
    "    ret = list()\n",
    "    for w in words:\n",
    "        if(len(w) <= 4):\n",
    "            ret.append(w)\n",
    "        else :\n",
    "            head = w[0]\n",
    "            last = w[len(w) - 1]\n",
    "            target = list(w[1:len(w) -1])\n",
    "            random.shuffle(target)\n",
    "            ret.append(head + \"\".join(target) + last)\n",
    "    return ret\n",
    "\n",
    "typoglycemia(\"I couldn't believe that I could actually understand what I was reading : the phenomenal power of the human mind .\".split())"
   ]
  },
  {
   "cell_type": "code",
   "execution_count": null,
   "metadata": {
    "collapsed": true
   },
   "outputs": [],
   "source": []
  }
 ],
 "metadata": {
  "kernelspec": {
   "display_name": "Python 3",
   "language": "python",
   "name": "python3"
  },
  "language_info": {
   "codemirror_mode": {
    "name": "ipython",
    "version": 3
   },
   "file_extension": ".py",
   "mimetype": "text/x-python",
   "name": "python",
   "nbconvert_exporter": "python",
   "pygments_lexer": "ipython3",
   "version": "3.5.1"
  }
 },
 "nbformat": 4,
 "nbformat_minor": 0
}
