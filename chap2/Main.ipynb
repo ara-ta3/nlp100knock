{
 "cells": [
  {
   "cell_type": "code",
   "execution_count": 1,
   "metadata": {
    "collapsed": false
   },
   "outputs": [
    {
     "name": "stdout",
     "output_type": "stream",
     "text": [
      "Main.ipynb   hightemp.txt\r\n"
     ]
    }
   ],
   "source": [
    "ls"
   ]
  },
  {
   "cell_type": "code",
   "execution_count": 2,
   "metadata": {
    "collapsed": false
   },
   "outputs": [
    {
     "name": "stdout",
     "output_type": "stream",
     "text": [
      "      24 hightemp.txt\r\n"
     ]
    }
   ],
   "source": [
    "wc -l hightemp.txt"
   ]
  },
  {
   "cell_type": "code",
   "execution_count": 3,
   "metadata": {
    "collapsed": false
   },
   "outputs": [
    {
     "name": "stdout",
     "output_type": "stream",
     "text": [
      "高知県  江川崎  41      2013-08-12\r\n",
      "埼玉県  熊谷    40.9    2007-08-16\r\n",
      "岐阜県  多治見  40.9    2007-08-16\r\n",
      "山形県  山形    40.8    1933-07-25\r\n",
      "山梨県  甲府    40.7    2013-08-10\r\n",
      "和歌山県        かつらぎ        40.6    1994-08-08\r\n",
      "静岡県  天竜    40.6    1994-08-04\r\n",
      "山梨県  勝沼    40.5    2013-08-10\r\n",
      "埼玉県  越谷    40.4    2007-08-16\r\n",
      "群馬県  館林    40.3    2007-08-16\r\n",
      "群馬県  上里見  40.3    1998-07-04\r\n",
      "愛知県  愛西    40.3    1994-08-05\r\n",
      "千葉県  牛久    40.2    2004-07-20\r\n",
      "静岡県  佐久間  40.2    2001-07-24\r\n",
      "愛媛県  宇和島  40.2    1927-07-22\r\n",
      "山形県  酒田    40.1    1978-08-03\r\n",
      "岐阜県  美濃    40      2007-08-16\r\n",
      "群馬県  前橋    40      2001-07-24\r\n",
      "千葉県  茂原    39.9    2013-08-11\r\n",
      "埼玉県  鳩山    39.9    1997-07-05\r\n",
      "大阪府  豊中    39.9    1994-08-08\r\n",
      "山梨県  大月    39.9    1990-07-19\r\n",
      "山形県  鶴岡    39.9    1978-08-03\r\n",
      "愛知県  名古屋  39.9    1942-08-02\r\n"
     ]
    }
   ],
   "source": [
    "expand hightemp.txt"
   ]
  },
  {
   "cell_type": "code",
   "execution_count": 4,
   "metadata": {
    "collapsed": false
   },
   "outputs": [
    {
     "name": "stdout",
     "output_type": "stream",
     "text": [
      "高知県\t江川崎\t41\t2013-08-12\r\n",
      "埼玉県\t熊谷\t40.9\t2007-08-16\r\n",
      "岐阜県\t多治見\t40.9\t2007-08-16\r\n",
      "山形県\t山形\t40.8\t1933-07-25\r\n",
      "山梨県\t甲府\t40.7\t2013-08-10\r\n",
      "和歌山県\tかつらぎ\t40.6\t1994-08-08\r\n",
      "静岡県\t天竜\t40.6\t1994-08-04\r\n",
      "山梨県\t勝沼\t40.5\t2013-08-10\r\n",
      "埼玉県\t越谷\t40.4\t2007-08-16\r\n",
      "群馬県\t館林\t40.3\t2007-08-16\r\n",
      "群馬県\t上里見\t40.3\t1998-07-04\r\n",
      "愛知県\t愛西\t40.3\t1994-08-05\r\n",
      "千葉県\t牛久\t40.2\t2004-07-20\r\n",
      "静岡県\t佐久間\t40.2\t2001-07-24\r\n",
      "愛媛県\t宇和島\t40.2\t1927-07-22\r\n",
      "山形県\t酒田\t40.1\t1978-08-03\r\n",
      "岐阜県\t美濃\t40\t2007-08-16\r\n",
      "群馬県\t前橋\t40\t2001-07-24\r\n",
      "千葉県\t茂原\t39.9\t2013-08-11\r\n",
      "埼玉県\t鳩山\t39.9\t1997-07-05\r\n",
      "大阪府\t豊中\t39.9\t1994-08-08\r\n",
      "山梨県\t大月\t39.9\t1990-07-19\r\n",
      "山形県\t鶴岡\t39.9\t1978-08-03\r\n",
      "愛知県\t名古屋\t39.9\t1942-08-02\r\n"
     ]
    }
   ],
   "source": [
    "cat hightemp.txt"
   ]
  },
  {
   "cell_type": "code",
   "execution_count": 6,
   "metadata": {
    "collapsed": false
   },
   "outputs": [
    {
     "name": "stdout",
     "output_type": "stream",
     "text": []
    }
   ],
   "source": [
    "cut -f 1 hightemp.txt > col1.txt"
   ]
  },
  {
   "cell_type": "code",
   "execution_count": 8,
   "metadata": {
    "collapsed": false
   },
   "outputs": [
    {
     "name": "stdout",
     "output_type": "stream",
     "text": []
    }
   ],
   "source": [
    "cut -f 2 hightemp.txt > col2.txt"
   ]
  },
  {
   "cell_type": "code",
   "execution_count": null,
   "metadata": {
    "collapsed": true
   },
   "outputs": [],
   "source": []
  }
 ],
 "metadata": {
  "kernelspec": {
   "display_name": "Bash",
   "language": "bash",
   "name": "bash"
  },
  "language_info": {
   "codemirror_mode": "shell",
   "file_extension": ".sh",
   "mimetype": "text/x-sh",
   "name": "bash"
  }
 },
 "nbformat": 4,
 "nbformat_minor": 0
}
